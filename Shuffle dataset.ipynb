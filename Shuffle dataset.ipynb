{
 "cells": [
  {
   "cell_type": "markdown",
   "metadata": {},
   "source": [
    "Neste Notebook o dataset dos vistos disponível na internet, pelo link abaixo, e que contem mais de 3 milhões de linhas é modificado para um novo dataset. \n",
    "\n",
    "https://www.kaggle.com/nsharan/h-1b-visa"
   ]
  },
  {
   "cell_type": "code",
   "execution_count": 11,
   "metadata": {},
   "outputs": [],
   "source": [
    "import pandas as pd\n",
    "import numpy as np\n",
    "import random\n",
    "from pandas import ExcelWriter\n",
    "from sklearn.model_selection import train_test_split"
   ]
  },
  {
   "cell_type": "markdown",
   "metadata": {},
   "source": [
    "Na célula abaixo, o dataset é importado e após isso as linhas são embaralhadas. "
   ]
  },
  {
   "cell_type": "code",
   "execution_count": null,
   "metadata": {},
   "outputs": [],
   "source": [
    "dataset = pd.read_csv(\"h1b.csv\")\n",
    "dataset = dataset.sample(frac=0.3).reset_index(drop=True)\n",
    "dataset.head()"
   ]
  },
  {
   "cell_type": "markdown",
   "metadata": {},
   "source": [
    "Na célula seguinte a um tratamento de dados. Todas as linhas na qual o resultado é WITHDRAWN, são retiradas do dataset, isso pois ele não cai em numa categoria que queira ser estudada, e também pois o processo não foi terminado. As duas linas de código seguintas também retiram linhas do dataset, pelo mesmo motivo a cima, o processo de aplicação para o visto de trabalho não foi terminado. Logo após isso as variavés são transformadas em 0 ou 1, para quando aprovado ou reprovado (CERTIFIED OU DENIED). Vale ressaltar que o caso CERTIFIED-WITHDRAWN, significa que a pessoa foi aprovada mas não quis terminar o processo para obter o visto, esse caso foi considerado como aprovado para o nosso estudo. Por último todas linhas qua não haviam uma das colunas completas, são removidas."
   ]
  },
  {
   "cell_type": "code",
   "execution_count": null,
   "metadata": {},
   "outputs": [],
   "source": [
    "dataset = dataset[dataset.CASE_STATUS != \"WITHDRAWN\"]\n",
    "dataset = dataset[dataset.CASE_STATUS != \"PENDING QUALITY AND COMPLIANCE REVIEW - UNASSIGNED\"]\n",
    "dataset = dataset[dataset.CASE_STATUS != \"INVALIDATED\"]\n",
    "\n",
    "dataset[\"CASE_STATUS\"] = dataset[\"CASE_STATUS\"].apply(lambda x: 1 if (x==\"CERTIFIED-WITHDRAWN\" or x==\"CERTIFIED\") else 0)\n",
    "\n",
    "dataset = dataset.dropna()\n",
    "dataset.head()"
   ]
  },
  {
   "cell_type": "markdown",
   "metadata": {},
   "source": [
    "Abaixo o novos datasets são criados a partir da aprovação ou reprovação no visto e depois são cortados na linha 50000. Por fim esse dois novos dataset são concatenados em um outro, o qual é exportado para um arquivo csv"
   ]
  },
  {
   "cell_type": "code",
   "execution_count": null,
   "metadata": {},
   "outputs": [],
   "source": [
    "# na = dataset[dataset[\"CASE_STATUS\"] == 0]\n",
    "# ap = dataset[dataset[\"CASE_STATUS\"] == 1]\n",
    "\n",
    "# na_cut = na[:10000]\n",
    "# ap_cut = ap[:10000]\n",
    "\n",
    "# df = pd.concat([ap_cut, na_cut])\n",
    "# df = df.sample(frac=1).reset_index(drop=True)\n",
    "\n",
    "treina,teste = train_test_split(dataset, test_size=0.2)\n",
    "df.head()"
   ]
  },
  {
   "cell_type": "code",
   "execution_count": null,
   "metadata": {},
   "outputs": [],
   "source": [
    "df.to_csv(\"Dataframe.csv\")"
   ]
  }
 ],
 "metadata": {
  "kernelspec": {
   "display_name": "Python 3",
   "language": "python",
   "name": "python3"
  },
  "language_info": {
   "codemirror_mode": {
    "name": "ipython",
    "version": 3
   },
   "file_extension": ".py",
   "mimetype": "text/x-python",
   "name": "python",
   "nbconvert_exporter": "python",
   "pygments_lexer": "ipython3",
   "version": "3.7.0"
  }
 },
 "nbformat": 4,
 "nbformat_minor": 2
}
